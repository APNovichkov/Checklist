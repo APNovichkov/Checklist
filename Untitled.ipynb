{
 "cells": [
  {
   "cell_type": "code",
   "execution_count": 81,
   "metadata": {},
   "outputs": [],
   "source": [
    "checklist = list()"
   ]
  },
  {
   "cell_type": "code",
   "execution_count": 82,
   "metadata": {},
   "outputs": [],
   "source": [
    "def create(item):\n",
    "    checklist.append(item)"
   ]
  },
  {
   "cell_type": "code",
   "execution_count": 83,
   "metadata": {},
   "outputs": [],
   "source": [
    "def read(index):\n",
    "    return checklist[index]"
   ]
  },
  {
   "cell_type": "code",
   "execution_count": 84,
   "metadata": {},
   "outputs": [],
   "source": [
    "def update(index, item):\n",
    "    checklist[index] = item"
   ]
  },
  {
   "cell_type": "code",
   "execution_count": 85,
   "metadata": {},
   "outputs": [],
   "source": [
    "def destroy(index):\n",
    "    checklist.pop(index)"
   ]
  },
  {
   "cell_type": "code",
   "execution_count": 86,
   "metadata": {},
   "outputs": [],
   "source": [
    "def list_all_items():\n",
    "    index = 0\n",
    "    for item in checklist:\n",
    "        print(\"{} : {}\".format(index, item))\n",
    "        index += 1"
   ]
  },
  {
   "cell_type": "code",
   "execution_count": 87,
   "metadata": {},
   "outputs": [],
   "source": [
    "def mark_completed(index):\n",
    "    checklist[index] = \"√\" + checklist[index]"
   ]
  },
  {
   "cell_type": "code",
   "execution_count": 88,
   "metadata": {},
   "outputs": [],
   "source": [
    "def test():\n",
    "    create(\"purple sox\")\n",
    "    create(\"red cloak\")\n",
    "\n",
    "    print(read(0))\n",
    "    print(read(1))\n",
    "\n",
    "    update(0, \"purple socks\")\n",
    "    destroy(1)\n",
    "\n",
    "    print(read(0))\n",
    "    \n",
    "    list_all_items()"
   ]
  },
  {
   "cell_type": "code",
   "execution_count": 89,
   "metadata": {},
   "outputs": [],
   "source": [
    "create(\"Yellow socks\")"
   ]
  },
  {
   "cell_type": "code",
   "execution_count": 90,
   "metadata": {},
   "outputs": [],
   "source": [
    "mark_completed(0)"
   ]
  },
  {
   "cell_type": "code",
   "execution_count": 91,
   "metadata": {},
   "outputs": [
    {
     "name": "stdout",
     "output_type": "stream",
     "text": [
      "0 : √Yellow socks\n"
     ]
    }
   ],
   "source": [
    "list_all_items()"
   ]
  },
  {
   "cell_type": "code",
   "execution_count": 76,
   "metadata": {},
   "outputs": [
    {
     "name": "stdout",
     "output_type": "stream",
     "text": [
      "purple sox\n",
      "red cloak\n",
      "purple socks\n",
      "0 : purple socks\n"
     ]
    }
   ],
   "source": [
    "test()"
   ]
  },
  {
   "cell_type": "code",
   "execution_count": 92,
   "metadata": {},
   "outputs": [],
   "source": [
    "def select(function_code):\n",
    "    if function_code == \"C\":\n",
    "        input_item = user_input(\"Input item:\")\n",
    "        create(input_item)\n",
    "    elif function_code == \"R\":\n",
    "        item_index = user_input(\"Index Number?\")\n",
    "        read(item_index)\n",
    "    elif function_cide == \"P\":\n",
    "        list_all_items()\n",
    "    elif function\n",
    "    else:\n",
    "        print(\"Unknown Option\")"
   ]
  },
  {
   "cell_type": "code",
   "execution_count": 95,
   "metadata": {},
   "outputs": [],
   "source": [
    "def user_input(prompt):\n",
    "    user_input = input(prompt)\n",
    "    return user_input"
   ]
  },
  {
   "cell_type": "code",
   "execution_count": 96,
   "metadata": {},
   "outputs": [
    {
     "name": "stdout",
     "output_type": "stream",
     "text": [
      "Input something: Hello\n",
      "Hello\n"
     ]
    }
   ],
   "source": [
    "user_value = user_input(\"Input something: \")\n",
    "print(user_value)"
   ]
  },
  {
   "cell_type": "code",
   "execution_count": null,
   "metadata": {},
   "outputs": [],
   "source": []
  }
 ],
 "metadata": {
  "kernelspec": {
   "display_name": "Python 3",
   "language": "python",
   "name": "python3"
  },
  "language_info": {
   "codemirror_mode": {
    "name": "ipython",
    "version": 3
   },
   "file_extension": ".py",
   "mimetype": "text/x-python",
   "name": "python",
   "nbconvert_exporter": "python",
   "pygments_lexer": "ipython3",
   "version": "3.7.4"
  }
 },
 "nbformat": 4,
 "nbformat_minor": 2
}
